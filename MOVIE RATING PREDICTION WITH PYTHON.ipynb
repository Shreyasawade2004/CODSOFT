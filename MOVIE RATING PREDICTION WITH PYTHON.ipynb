{
 "cells": [
  {
   "cell_type": "markdown",
   "id": "2da2733e",
   "metadata": {},
   "source": [
    "# MOVIE RATING PREDICTION WITH PYTHON"
   ]
  },
  {
   "cell_type": "code",
   "execution_count": 1,
   "id": "b16ddf2b",
   "metadata": {},
   "outputs": [],
   "source": [
    "import numpy as np\n",
    "import pandas as pd  "
   ]
  },
  {
   "cell_type": "code",
   "execution_count": 2,
   "id": "93ba2c5b",
   "metadata": {},
   "outputs": [],
   "source": [
    "import os\n",
    "for dirname, _, filenames in os.walk('/kaggle/input'):\n",
    "    for filename in filenames:\n",
    "        print(os.path.join(dirname, filename))"
   ]
  },
  {
   "cell_type": "code",
   "execution_count": 3,
   "id": "f8cf6d62",
   "metadata": {},
   "outputs": [],
   "source": [
    "import pandas as pd \n",
    "import numpy as np \n",
    "import pandas as pd\n",
    "import numpy as np\n",
    "import matplotlib.pyplot as plt\n",
    "import seaborn as sns\n",
    "import matplotlib.pyplot as mpl\n",
    "\n",
    "import warnings\n",
    "warnings.filterwarnings(\"ignore\")"
   ]
  },
  {
   "cell_type": "code",
   "execution_count": 4,
   "id": "919d314d",
   "metadata": {},
   "outputs": [
    {
     "data": {
      "text/plain": [
       "'C:\\\\Users\\\\dabha'"
      ]
     },
     "execution_count": 4,
     "metadata": {},
     "output_type": "execute_result"
    }
   ],
   "source": [
    "os.getcwd()"
   ]
  },
  {
   "cell_type": "code",
   "execution_count": 10,
   "id": "5e1b55f7",
   "metadata": {},
   "outputs": [],
   "source": [
    "os.chdir('C:\\\\Users\\\\dabha\\\\OneDrive\\\\Desktop')\n"
   ]
  },
  {
   "cell_type": "code",
   "execution_count": 14,
   "id": "af58af65",
   "metadata": {},
   "outputs": [],
   "source": [
    "data=pd.read_csv(\"IMDbMoviesIndia.csv\",encoding='latin-1')"
   ]
  },
  {
   "cell_type": "code",
   "execution_count": 15,
   "id": "b862c7e7",
   "metadata": {},
   "outputs": [
    {
     "data": {
      "text/plain": [
       "<bound method NDFrame.head of                                      Name    Year Duration            Genre  \\\n",
       "0                                             NaN      NaN            Drama   \n",
       "1      #Gadhvi (He thought he was Gandhi)  (2019)  109 min            Drama   \n",
       "2                             #Homecoming  (2021)   90 min   Drama, Musical   \n",
       "3                                 #Yaaram  (2019)  110 min  Comedy, Romance   \n",
       "4                       ...And Once Again  (2010)  105 min            Drama   \n",
       "...                                   ...     ...      ...              ...   \n",
       "15504                 Zulm Ko Jala Doonga  (1988)      NaN           Action   \n",
       "15505                               Zulmi  (1999)  129 min    Action, Drama   \n",
       "15506                           Zulmi Raj  (2005)      NaN           Action   \n",
       "15507                       Zulmi Shikari  (1988)      NaN           Action   \n",
       "15508                        Zulm-O-Sitam  (1998)  130 min    Action, Drama   \n",
       "\n",
       "       Rating Votes            Director           Actor 1             Actor 2  \\\n",
       "0         NaN   NaN       J.S. Randhawa          Manmauji              Birbal   \n",
       "1         7.0     8       Gaurav Bakshi      Rasika Dugal      Vivek Ghamande   \n",
       "2         NaN   NaN  Soumyajit Majumdar      Sayani Gupta   Plabita Borthakur   \n",
       "3         4.4    35          Ovais Khan           Prateik          Ishita Raj   \n",
       "4         NaN   NaN        Amol Palekar      Rajat Kapoor  Rituparna Sengupta   \n",
       "...       ...   ...                 ...               ...                 ...   \n",
       "15504     4.6    11       Mahendra Shah  Naseeruddin Shah       Sumeet Saigal   \n",
       "15505     4.5   655          Kuku Kohli      Akshay Kumar      Twinkle Khanna   \n",
       "15506     NaN   NaN          Kiran Thej   Sangeeta Tiwari                 NaN   \n",
       "15507     NaN   NaN                 NaN               NaN                 NaN   \n",
       "15508     6.2    20        K.C. Bokadia        Dharmendra          Jaya Prada   \n",
       "\n",
       "               Actor 3  \n",
       "0      Rajendra Bhatia  \n",
       "1        Arvind Jangid  \n",
       "2           Roy Angana  \n",
       "3      Siddhant Kapoor  \n",
       "4          Antara Mali  \n",
       "...                ...  \n",
       "15504    Suparna Anand  \n",
       "15505      Aruna Irani  \n",
       "15506              NaN  \n",
       "15507              NaN  \n",
       "15508      Arjun Sarja  \n",
       "\n",
       "[15509 rows x 10 columns]>"
      ]
     },
     "execution_count": 15,
     "metadata": {},
     "output_type": "execute_result"
    }
   ],
   "source": [
    "data.head"
   ]
  },
  {
   "cell_type": "code",
   "execution_count": 18,
   "id": "af0390d9",
   "metadata": {},
   "outputs": [
    {
     "data": {
      "text/plain": [
       "Name         object\n",
       "Year         object\n",
       "Duration     object\n",
       "Genre        object\n",
       "Rating      float64\n",
       "Votes        object\n",
       "Director     object\n",
       "Actor 1      object\n",
       "Actor 2      object\n",
       "Actor 3      object\n",
       "dtype: object"
      ]
     },
     "execution_count": 18,
     "metadata": {},
     "output_type": "execute_result"
    }
   ],
   "source": [
    "data.dtypes"
   ]
  },
  {
   "cell_type": "code",
   "execution_count": 19,
   "id": "53c2967e",
   "metadata": {},
   "outputs": [
    {
     "data": {
      "text/plain": [
       "Name           0\n",
       "Year         528\n",
       "Duration    8269\n",
       "Genre       1877\n",
       "Rating      7590\n",
       "Votes       7589\n",
       "Director     525\n",
       "Actor 1     1617\n",
       "Actor 2     2384\n",
       "Actor 3     3144\n",
       "dtype: int64"
      ]
     },
     "execution_count": 19,
     "metadata": {},
     "output_type": "execute_result"
    }
   ],
   "source": [
    "data.isnull().sum()"
   ]
  },
  {
   "cell_type": "code",
   "execution_count": 20,
   "id": "eacaccdb",
   "metadata": {},
   "outputs": [
    {
     "name": "stdout",
     "output_type": "stream",
     "text": [
      "['History', 'Mystery', 'Musical', 'Action', 'Fantasy', 'Family', 'Western', 'Thriller', 'Horror', 'Comedy', 'Sci-Fi', 'Animation', 'Music', 'Biography', 'Drama', 'Documentary', 'Romance', 'Short', 'Adventure', 'Crime', 'War', 'News', 'Sport', 'Reality-TV']\n"
     ]
    }
   ],
   "source": [
    " # Create a new DataFrame for the genre data\n",
    "genre_data = data[['Genre']].copy()\n",
    "\n",
    "# Drop rows with missing values in the 'Genre' column\n",
    "genre_data.dropna(subset=['Genre'], inplace=True)\n",
    "\n",
    "# Combine all genres into a single string, separated by commas\n",
    "all_genres = \",\".join(genre_data['Genre'].tolist())\n",
    "\n",
    "# Split the combined string to get a list of all genres\n",
    "genre_list = all_genres.split(\",\")\n",
    "\n",
    "# Use a set to collect unique genres after stripping spaces\n",
    "unique_genres = set(genre.strip() for genre in genre_list)\n",
    "\n",
    "# Convert the set of unique genres back to a list\n",
    "unique_genres = list(unique_genres)\n",
    "\n",
    "# Print the unique genre names\n",
    "print(unique_genres)"
   ]
  },
  {
   "cell_type": "code",
   "execution_count": 21,
   "id": "d21960a1",
   "metadata": {},
   "outputs": [
    {
     "name": "stdout",
     "output_type": "stream",
     "text": [
      "          Genre  Count  Mean Rating\n",
      "0         Drama   7243     5.998558\n",
      "1        Action   3543     5.430365\n",
      "2       Romance   2449     5.750533\n",
      "3        Comedy   2029     5.737290\n",
      "4      Thriller   1713     5.536187\n",
      "5         Crime   1322     5.727813\n",
      "6        Family    943     6.195173\n",
      "7       Musical    589     6.156627\n",
      "8     Adventure    541     5.816839\n",
      "9        Horror    524     4.785000\n",
      "10      Mystery    513     5.801892\n",
      "11      Fantasy    458     5.819512\n",
      "12  Documentary    383     7.613287\n",
      "13    Biography    208     6.819718\n",
      "14      History    207     6.804688\n",
      "15    Animation    125     5.956164\n",
      "16        Music     90     6.137705\n",
      "17        Sport     70     6.494118\n",
      "18       Sci-Fi     58     5.272973\n",
      "19          War     47     6.041176\n",
      "20         News      9     7.250000\n",
      "21      Western      5     5.566667\n",
      "22   Reality-TV      3          NaN\n",
      "23        Short      1          NaN\n"
     ]
    }
   ],
   "source": [
    "# Split the 'Genre' column by commas and create a list of genres for each row\n",
    "data['Genre'] = data['Genre'].str.split(', ')\n",
    "\n",
    "# Create a new DataFrame to store the expanded genre data\n",
    "genre_data = data.explode('Genre')\n",
    "\n",
    "# Calculate the count of movies for each genre\n",
    "genre_counts = genre_data['Genre'].value_counts().reset_index()\n",
    "genre_counts.columns = ['Genre', 'Count']\n",
    "\n",
    "# Calculate the mean rating for each genre\n",
    "genre_mean_ratings = genre_data.groupby('Genre')['Rating'].mean().reset_index()\n",
    "genre_mean_ratings.columns = ['Genre', 'Mean Rating']\n",
    "\n",
    "# Merge the counts and mean ratings into a single DataFrame\n",
    "genre_stats = pd.merge(genre_counts, genre_mean_ratings, on='Genre')\n",
    "\n",
    "# Display the resulting DataFrame\n",
    "print(genre_stats)"
   ]
  },
  {
   "cell_type": "code",
   "execution_count": 22,
   "id": "1ce8eb1f",
   "metadata": {},
   "outputs": [
    {
     "data": {
      "text/html": [
       "<div>\n",
       "<style scoped>\n",
       "    .dataframe tbody tr th:only-of-type {\n",
       "        vertical-align: middle;\n",
       "    }\n",
       "\n",
       "    .dataframe tbody tr th {\n",
       "        vertical-align: top;\n",
       "    }\n",
       "\n",
       "    .dataframe thead th {\n",
       "        text-align: right;\n",
       "    }\n",
       "</style>\n",
       "<table border=\"1\" class=\"dataframe\">\n",
       "  <thead>\n",
       "    <tr style=\"text-align: right;\">\n",
       "      <th></th>\n",
       "      <th>Name</th>\n",
       "      <th>Year</th>\n",
       "      <th>Duration</th>\n",
       "      <th>Genre</th>\n",
       "      <th>Votes</th>\n",
       "      <th>Director</th>\n",
       "      <th>Actor 1</th>\n",
       "      <th>Actor 2</th>\n",
       "      <th>Actor 3</th>\n",
       "    </tr>\n",
       "  </thead>\n",
       "  <tbody>\n",
       "    <tr>\n",
       "      <th>count</th>\n",
       "      <td>15509</td>\n",
       "      <td>14981</td>\n",
       "      <td>7240</td>\n",
       "      <td>13632</td>\n",
       "      <td>7920</td>\n",
       "      <td>14984</td>\n",
       "      <td>13892</td>\n",
       "      <td>13125</td>\n",
       "      <td>12365</td>\n",
       "    </tr>\n",
       "    <tr>\n",
       "      <th>unique</th>\n",
       "      <td>13838</td>\n",
       "      <td>102</td>\n",
       "      <td>182</td>\n",
       "      <td>485</td>\n",
       "      <td>2034</td>\n",
       "      <td>5938</td>\n",
       "      <td>4718</td>\n",
       "      <td>4891</td>\n",
       "      <td>4820</td>\n",
       "    </tr>\n",
       "    <tr>\n",
       "      <th>top</th>\n",
       "      <td>Anjaam</td>\n",
       "      <td>(2019)</td>\n",
       "      <td>120 min</td>\n",
       "      <td>[Drama]</td>\n",
       "      <td>8</td>\n",
       "      <td>Jayant Desai</td>\n",
       "      <td>Ashok Kumar</td>\n",
       "      <td>Rekha</td>\n",
       "      <td>Pran</td>\n",
       "    </tr>\n",
       "    <tr>\n",
       "      <th>freq</th>\n",
       "      <td>7</td>\n",
       "      <td>410</td>\n",
       "      <td>240</td>\n",
       "      <td>2780</td>\n",
       "      <td>227</td>\n",
       "      <td>58</td>\n",
       "      <td>158</td>\n",
       "      <td>83</td>\n",
       "      <td>91</td>\n",
       "    </tr>\n",
       "  </tbody>\n",
       "</table>\n",
       "</div>"
      ],
      "text/plain": [
       "          Name    Year Duration    Genre Votes      Director      Actor 1  \\\n",
       "count    15509   14981     7240    13632  7920         14984        13892   \n",
       "unique   13838     102      182      485  2034          5938         4718   \n",
       "top     Anjaam  (2019)  120 min  [Drama]     8  Jayant Desai  Ashok Kumar   \n",
       "freq         7     410      240     2780   227            58          158   \n",
       "\n",
       "       Actor 2 Actor 3  \n",
       "count    13125   12365  \n",
       "unique    4891    4820  \n",
       "top      Rekha    Pran  \n",
       "freq        83      91  "
      ]
     },
     "execution_count": 22,
     "metadata": {},
     "output_type": "execute_result"
    }
   ],
   "source": [
    "data.describe(include = 'O')"
   ]
  },
  {
   "cell_type": "code",
   "execution_count": 23,
   "id": "6be338e5",
   "metadata": {},
   "outputs": [],
   "source": [
    "# Remove rows with missing values in the 'Rating' column\n",
    "data = data.dropna(subset=['Rating'])\n",
    "\n",
    "#Reset the index after removing rows\n",
    "data.reset_index(drop=True, inplace=True)"
   ]
  },
  {
   "cell_type": "code",
   "execution_count": 24,
   "id": "41d050dc",
   "metadata": {},
   "outputs": [
    {
     "data": {
      "text/plain": [
       "Name           0\n",
       "Year           0\n",
       "Duration    2068\n",
       "Genre        102\n",
       "Rating         0\n",
       "Votes          0\n",
       "Director       5\n",
       "Actor 1      125\n",
       "Actor 2      200\n",
       "Actor 3      292\n",
       "dtype: int64"
      ]
     },
     "execution_count": 24,
     "metadata": {},
     "output_type": "execute_result"
    }
   ],
   "source": [
    "data.isnull().sum()"
   ]
  },
  {
   "cell_type": "code",
   "execution_count": 25,
   "id": "6fb3fb12",
   "metadata": {},
   "outputs": [],
   "source": [
    "data.dropna(subset=['Name', 'Year', 'Duration', 'Rating', 'Votes', 'Director', 'Actor 1', 'Actor 2', 'Actor 3'], inplace=True)"
   ]
  },
  {
   "cell_type": "code",
   "execution_count": 26,
   "id": "f9c1927c",
   "metadata": {},
   "outputs": [],
   "source": [
    "data['Year'] = data['Year'].str.replace(r'\\D', '', regex=True).astype(int)"
   ]
  },
  {
   "cell_type": "code",
   "execution_count": 27,
   "id": "695ce1bd",
   "metadata": {},
   "outputs": [],
   "source": [
    "data['Duration'] = data['Duration'].str.replace(r'\\D', '', regex=True).astype(float)"
   ]
  },
  {
   "cell_type": "code",
   "execution_count": 28,
   "id": "d4eb40b3",
   "metadata": {},
   "outputs": [],
   "source": [
    "data['Votes'] = data['Votes'].str.replace(',', '', regex=True).astype(int)"
   ]
  },
  {
   "cell_type": "code",
   "execution_count": 29,
   "id": "2d85371d",
   "metadata": {},
   "outputs": [],
   "source": [
    "median_duration = data['Duration'].median()\n",
    "\n",
    "# Fill missing values in the 'Duration' column with the median value\n",
    "data['Duration'].fillna(median_duration, inplace=True)"
   ]
  },
  {
   "cell_type": "code",
   "execution_count": 30,
   "id": "7ee18c37",
   "metadata": {},
   "outputs": [
    {
     "data": {
      "text/plain": [
       "Name         object\n",
       "Year          int32\n",
       "Duration    float64\n",
       "Genre        object\n",
       "Rating      float64\n",
       "Votes         int32\n",
       "Director     object\n",
       "Actor 1      object\n",
       "Actor 2      object\n",
       "Actor 3      object\n",
       "dtype: object"
      ]
     },
     "execution_count": 30,
     "metadata": {},
     "output_type": "execute_result"
    }
   ],
   "source": [
    "data.dtypes"
   ]
  },
  {
   "cell_type": "code",
   "execution_count": 31,
   "id": "cbb5ca0c",
   "metadata": {},
   "outputs": [
    {
     "data": {
      "text/html": [
       "<div>\n",
       "<style scoped>\n",
       "    .dataframe tbody tr th:only-of-type {\n",
       "        vertical-align: middle;\n",
       "    }\n",
       "\n",
       "    .dataframe tbody tr th {\n",
       "        vertical-align: top;\n",
       "    }\n",
       "\n",
       "    .dataframe thead th {\n",
       "        text-align: right;\n",
       "    }\n",
       "</style>\n",
       "<table border=\"1\" class=\"dataframe\">\n",
       "  <thead>\n",
       "    <tr style=\"text-align: right;\">\n",
       "      <th></th>\n",
       "      <th>Name</th>\n",
       "      <th>Genre</th>\n",
       "      <th>Director</th>\n",
       "      <th>Actor 1</th>\n",
       "      <th>Actor 2</th>\n",
       "      <th>Actor 3</th>\n",
       "    </tr>\n",
       "  </thead>\n",
       "  <tbody>\n",
       "    <tr>\n",
       "      <th>count</th>\n",
       "      <td>5688</td>\n",
       "      <td>5659</td>\n",
       "      <td>5688</td>\n",
       "      <td>5688</td>\n",
       "      <td>5688</td>\n",
       "      <td>5688</td>\n",
       "    </tr>\n",
       "    <tr>\n",
       "      <th>unique</th>\n",
       "      <td>5410</td>\n",
       "      <td>376</td>\n",
       "      <td>2438</td>\n",
       "      <td>1974</td>\n",
       "      <td>2336</td>\n",
       "      <td>2572</td>\n",
       "    </tr>\n",
       "    <tr>\n",
       "      <th>top</th>\n",
       "      <td>Zindagi</td>\n",
       "      <td>[Drama]</td>\n",
       "      <td>David Dhawan</td>\n",
       "      <td>Amitabh Bachchan</td>\n",
       "      <td>Rekha</td>\n",
       "      <td>Pran</td>\n",
       "    </tr>\n",
       "    <tr>\n",
       "      <th>freq</th>\n",
       "      <td>4</td>\n",
       "      <td>844</td>\n",
       "      <td>41</td>\n",
       "      <td>104</td>\n",
       "      <td>52</td>\n",
       "      <td>57</td>\n",
       "    </tr>\n",
       "  </tbody>\n",
       "</table>\n",
       "</div>"
      ],
      "text/plain": [
       "           Name    Genre      Director           Actor 1 Actor 2 Actor 3\n",
       "count      5688     5659          5688              5688    5688    5688\n",
       "unique     5410      376          2438              1974    2336    2572\n",
       "top     Zindagi  [Drama]  David Dhawan  Amitabh Bachchan   Rekha    Pran\n",
       "freq          4      844            41               104      52      57"
      ]
     },
     "execution_count": 31,
     "metadata": {},
     "output_type": "execute_result"
    }
   ],
   "source": [
    "data.describe(include = 'O')"
   ]
  },
  {
   "cell_type": "code",
   "execution_count": 32,
   "id": "e7ca17ff",
   "metadata": {},
   "outputs": [
    {
     "data": {
      "image/png": "[encoded data removed]",
      "text/plain": [
       "<Figure size 864x432 with 1 Axes>"
      ]
     },
     "metadata": {
      "needs_background": "light"
     },
     "output_type": "display_data"
    }
   ],
   "source": [
    "genre_stats = genre_stats.sort_values(by='Count', ascending=False)\n",
    "\n",
    "# Create a bar plot\n",
    "plt.figure(figsize=(12, 6))\n",
    "plt.bar(genre_stats['Genre'], genre_stats['Count'])\n",
    "plt.xlabel('Genre')\n",
    "plt.ylabel('Count of Movies')\n",
    "plt.title('Count of Movies by Genre')\n",
    "plt.xticks(rotation=90)  # Rotate x-axis labels for better readability\n",
    "plt.show()"
   ]
  },
  {
   "cell_type": "code",
   "execution_count": 33,
   "id": "1bba0f8c",
   "metadata": {},
   "outputs": [
    {
     "data": {
      "text/html": [
       "<div>\n",
       "<style scoped>\n",
       "    .dataframe tbody tr th:only-of-type {\n",
       "        vertical-align: middle;\n",
       "    }\n",
       "\n",
       "    .dataframe tbody tr th {\n",
       "        vertical-align: top;\n",
       "    }\n",
       "\n",
       "    .dataframe thead th {\n",
       "        text-align: right;\n",
       "    }\n",
       "</style>\n",
       "<table border=\"1\" class=\"dataframe\">\n",
       "  <thead>\n",
       "    <tr style=\"text-align: right;\">\n",
       "      <th></th>\n",
       "      <th>Name</th>\n",
       "      <th>Year</th>\n",
       "      <th>Duration</th>\n",
       "      <th>Genre</th>\n",
       "      <th>Rating</th>\n",
       "      <th>Votes</th>\n",
       "      <th>Director</th>\n",
       "      <th>Actor 1</th>\n",
       "      <th>Actor 2</th>\n",
       "      <th>Actor 3</th>\n",
       "    </tr>\n",
       "  </thead>\n",
       "  <tbody>\n",
       "    <tr>\n",
       "      <th>4365</th>\n",
       "      <td>Love Qubool Hai</td>\n",
       "      <td>2020</td>\n",
       "      <td>94.0</td>\n",
       "      <td>[Drama, Romance]</td>\n",
       "      <td>10.0</td>\n",
       "      <td>5</td>\n",
       "      <td>Saif Ali Sayeed</td>\n",
       "      <td>Ahaan Jha</td>\n",
       "      <td>Mahesh Narayan</td>\n",
       "      <td>Rajasree Rajakumari</td>\n",
       "    </tr>\n",
       "  </tbody>\n",
       "</table>\n",
       "</div>"
      ],
      "text/plain": [
       "                 Name  Year  Duration             Genre  Rating  Votes  \\\n",
       "4365  Love Qubool Hai  2020      94.0  [Drama, Romance]    10.0      5   \n",
       "\n",
       "             Director    Actor 1         Actor 2              Actor 3  \n",
       "4365  Saif Ali Sayeed  Ahaan Jha  Mahesh Narayan  Rajasree Rajakumari  "
      ]
     },
     "execution_count": 33,
     "metadata": {},
     "output_type": "execute_result"
    }
   ],
   "source": [
    "data.loc[data['Rating']==data['Rating'].max()]"
   ]
  },
  {
   "cell_type": "code",
   "execution_count": 34,
   "id": "b071a66a",
   "metadata": {},
   "outputs": [
    {
     "data": {
      "text/html": [
       "<div>\n",
       "<style scoped>\n",
       "    .dataframe tbody tr th:only-of-type {\n",
       "        vertical-align: middle;\n",
       "    }\n",
       "\n",
       "    .dataframe tbody tr th {\n",
       "        vertical-align: top;\n",
       "    }\n",
       "\n",
       "    .dataframe thead th {\n",
       "        text-align: right;\n",
       "    }\n",
       "</style>\n",
       "<table border=\"1\" class=\"dataframe\">\n",
       "  <thead>\n",
       "    <tr style=\"text-align: right;\">\n",
       "      <th></th>\n",
       "      <th>Name</th>\n",
       "      <th>Year</th>\n",
       "      <th>Duration</th>\n",
       "      <th>Genre</th>\n",
       "      <th>Rating</th>\n",
       "      <th>Votes</th>\n",
       "      <th>Director</th>\n",
       "      <th>Actor 1</th>\n",
       "      <th>Actor 2</th>\n",
       "      <th>Actor 3</th>\n",
       "    </tr>\n",
       "  </thead>\n",
       "  <tbody>\n",
       "    <tr>\n",
       "      <th>6238</th>\n",
       "      <td>Sadak 2</td>\n",
       "      <td>2020</td>\n",
       "      <td>133.0</td>\n",
       "      <td>[Action, Drama]</td>\n",
       "      <td>1.1</td>\n",
       "      <td>67785</td>\n",
       "      <td>Mahesh Bhatt</td>\n",
       "      <td>Alia Bhatt</td>\n",
       "      <td>Priyanka Bose</td>\n",
       "      <td>Sanjay Dutt</td>\n",
       "    </tr>\n",
       "  </tbody>\n",
       "</table>\n",
       "</div>"
      ],
      "text/plain": [
       "         Name  Year  Duration            Genre  Rating  Votes      Director  \\\n",
       "6238  Sadak 2  2020     133.0  [Action, Drama]     1.1  67785  Mahesh Bhatt   \n",
       "\n",
       "         Actor 1        Actor 2      Actor 3  \n",
       "6238  Alia Bhatt  Priyanka Bose  Sanjay Dutt  "
      ]
     },
     "execution_count": 34,
     "metadata": {},
     "output_type": "execute_result"
    }
   ],
   "source": [
    "data.loc[(data['Rating'].min()==data['Rating']) ]"
   ]
  },
  {
   "cell_type": "code",
   "execution_count": 35,
   "id": "76f05d65",
   "metadata": {},
   "outputs": [
    {
     "data": {
      "text/plain": [
       "Actor 1           Actor 2        Actor 3       \n",
       "Anil Kapoor       Sridevi        Anupam Kher       3\n",
       "Dibakar Banerjee  Karan Johar    Anurag Kashyap    3\n",
       "Dharmendra        Sunny Deol     Bobby Deol        3\n",
       "Nargis            Pradeep Kumar  Pran              2\n",
       "Sunny Deol        Anil Kapoor    Sridevi           2\n",
       "Devika Rani       Ashok Kumar    Kamta Prasad      2\n",
       "Dharmendra        Saira Banu     Feroz Khan        2\n",
       "Manoj Kumar       Hema Malini    Prem Nath         2\n",
       "Shashi Kapoor     Govinda        Neelam Kothari    2\n",
       "Rishi Kapoor      Zeba Bakhtiar  Ashwini Bhave     2\n",
       "dtype: int64"
      ]
     },
     "execution_count": 35,
     "metadata": {},
     "output_type": "execute_result"
    }
   ],
   "source": [
    "acts = data[['Actor 1', 'Actor 2', 'Actor 3']].value_counts().sort_values(ascending=False).head(10)\n",
    "acts"
   ]
  },
  {
   "cell_type": "code",
   "execution_count": 36,
   "id": "608ab285",
   "metadata": {},
   "outputs": [
    {
     "data": {
      "text/plain": [
       "Amitabh Bachchan      104\n",
       "Mithun Chakraborty     93\n",
       "Ashok Kumar            91\n",
       "Dharmendra             90\n",
       "Jeetendra              89\n",
       "Akshay Kumar           82\n",
       "Shashi Kapoor          81\n",
       "Rajesh Khanna          74\n",
       "Ajay Devgn             70\n",
       "Sanjay Dutt            61\n",
       "Name: Actor 1, dtype: int64"
      ]
     },
     "execution_count": 36,
     "metadata": {},
     "output_type": "execute_result"
    }
   ],
   "source": [
    "acts1 = data['Actor 1'].value_counts().sort_values(ascending=False).head(10)\n",
    "acts1"
   ]
  },
  {
   "cell_type": "code",
   "execution_count": 37,
   "id": "ac31e2ce",
   "metadata": {},
   "outputs": [
    {
     "data": {
      "text/plain": [
       "Rekha                 52\n",
       "Hema Malini           48\n",
       "Dharmendra            38\n",
       "Mithun Chakraborty    38\n",
       "Juhi Chawla           34\n",
       "Akshay Kumar          34\n",
       "Sharmila Tagore       32\n",
       "Shabana Azmi          31\n",
       "Sunil Shetty          28\n",
       "Raveena Tandon        28\n",
       "Name: Actor 2, dtype: int64"
      ]
     },
     "execution_count": 37,
     "metadata": {},
     "output_type": "execute_result"
    }
   ],
   "source": [
    "acts2 = data['Actor 2'].value_counts().sort_values(ascending=False).head(10)\n",
    "acts2"
   ]
  },
  {
   "cell_type": "code",
   "execution_count": 38,
   "id": "a3afc575",
   "metadata": {},
   "outputs": [
    {
     "data": {
      "text/plain": [
       "Pran                  57\n",
       "Anupam Kher           51\n",
       "Prem Chopra           32\n",
       "Paresh Rawal          30\n",
       "Mithun Chakraborty    29\n",
       "Shatrughan Sinha      28\n",
       "Amrish Puri           26\n",
       "Om Puri               26\n",
       "Asrani                26\n",
       "Aruna Irani           24\n",
       "Name: Actor 3, dtype: int64"
      ]
     },
     "execution_count": 38,
     "metadata": {},
     "output_type": "execute_result"
    }
   ],
   "source": [
    "acts3 = data['Actor 3'].value_counts().sort_values(ascending=False).head(10)\n",
    "acts3"
   ]
  },
  {
   "cell_type": "code",
   "execution_count": 39,
   "id": "875f3a62",
   "metadata": {},
   "outputs": [],
   "source": [
    "top_20_rated_movies_of_actor=data[(data['Rating']>=7)]['Actor 1'].head(20)"
   ]
  },
  {
   "cell_type": "code",
   "execution_count": 40,
   "id": "8b8bb436",
   "metadata": {},
   "outputs": [
    {
     "data": {
      "text/plain": [
       "Actor 1\n",
       "Aamir Khan             8.4\n",
       "Amitabh Bachchan       7.4\n",
       "Anil Kapoor            7.2\n",
       "Dhruva Padmakumar      8.1\n",
       "Ehan Bhat              7.4\n",
       "Geeta Agrawal          7.3\n",
       "Guru Dutt              7.2\n",
       "Jennifer Kendal        7.5\n",
       "Jimmy Sheirgill        7.4\n",
       "Kalki Koechlin         7.5\n",
       "Madhavan               7.3\n",
       "Manoj Bajpayee         8.1\n",
       "Nachiket Patwardhan    7.7\n",
       "Naseeruddin Shah       7.8\n",
       "Raj Nidimoru           7.3\n",
       "Rajvvir Aroraa         7.3\n",
       "Rasika Dugal           7.0\n",
       "Sanjay Deyali          8.0\n",
       "Shabana Azmi           7.1\n",
       "Srishti Gautam         7.8\n",
       "Name: Rating, dtype: float64"
      ]
     },
     "execution_count": 40,
     "metadata": {},
     "output_type": "execute_result"
    }
   ],
   "source": [
    "top_20_actor=data.groupby(top_20_rated_movies_of_actor)['Rating'].mean()\n",
    "top_20_actor"
   ]
  },
  {
   "cell_type": "code",
   "execution_count": 41,
   "id": "1ef0a8fa",
   "metadata": {},
   "outputs": [
    {
     "data": {
      "image/png": "[encoded data removed]",
      "text/plain": [
       "<Figure size 432x288 with 1 Axes>"
      ]
     },
     "metadata": {
      "needs_background": "light"
     },
     "output_type": "display_data"
    }
   ],
   "source": [
    "plt.bar(top_20_actor.index,top_20_actor.values)\n",
    "plt.xlabel(\"Top 20 Actors\")\n",
    "plt.ylabel(\"Average Rating\")\n",
    "plt.title(\"Average Rating of Top 20 actors\")\n",
    "plt.xticks(rotation='vertical', fontsize=8)\n",
    "plt.show()"
   ]
  },
  {
   "cell_type": "code",
   "execution_count": 42,
   "id": "0e3688e9",
   "metadata": {},
   "outputs": [],
   "source": [
    "top_20_rated_movies_of_director=data[(data['Rating']>=7)]['Director'].head(20)"
   ]
  },
  {
   "cell_type": "code",
   "execution_count": 43,
   "id": "124dd743",
   "metadata": {},
   "outputs": [
    {
     "data": {
      "text/plain": [
       "Director\n",
       "Amrit Sagar                   8.1\n",
       "Aparna Sen                    7.3\n",
       "Dhruv Sachdev                 8.0\n",
       "Gaurav Bakshi                 7.0\n",
       "Jayoo Patwardhan              7.7\n",
       "Konkona Sen Sharma            7.5\n",
       "Krishna D.K.                  7.3\n",
       "Nagesh Kukunoor               7.8\n",
       "Padmakumar Narasimhamurthy    8.1\n",
       "Pramod Chakravorty            7.2\n",
       "Praveen Damle                 7.3\n",
       "Prawaal Raman                 7.3\n",
       "Rajkumar Hirani               8.4\n",
       "Shoojit Sircar                7.4\n",
       "Suhaib Ilyasi                 7.8\n",
       "Umesh Shukla                  7.4\n",
       "Vidhu Vinod Chopra            7.2\n",
       "Vikram K. Kumar               7.3\n",
       "Vishwesh Krishnamoorthy       7.4\n",
       "Name: Rating, dtype: float64"
      ]
     },
     "execution_count": 43,
     "metadata": {},
     "output_type": "execute_result"
    }
   ],
   "source": [
    "data.groupby(top_20_rated_movies_of_director)['Rating'].mean()"
   ]
  },
  {
   "cell_type": "code",
   "execution_count": 44,
   "id": "03dac715",
   "metadata": {},
   "outputs": [
    {
     "data": {
      "image/png": "[encoded data removed]",
      "text/plain": [
       "<Figure size 720x576 with 2 Axes>"
      ]
     },
     "metadata": {
      "needs_background": "light"
     },
     "output_type": "display_data"
    }
   ],
   "source": [
    "correlation_matrix = data[['Year', 'Duration', 'Rating', 'Votes']].corr()\n",
    "\n",
    "plt.figure(figsize=(10, 8))  # Set the size of the heatmap\n",
    "sns.heatmap(correlation_matrix, annot=True, cmap=\"coolwarm\", linewidths=.5)\n",
    "\n",
    "plt.title(\"Correlation Heatmap\")\n",
    "plt.show()"
   ]
  },
  {
   "cell_type": "code",
   "execution_count": 45,
   "id": "10a5df78",
   "metadata": {},
   "outputs": [
    {
     "data": {
      "image/png": "[encoded data removed]",
      "text/plain": [
       "<Figure size 720x432 with 1 Axes>"
      ]
     },
     "metadata": {
      "needs_background": "light"
     },
     "output_type": "display_data"
    }
   ],
   "source": [
    "# Make sure 'Year' and 'Rating' columns are in the correct data types (int and float)\n",
    "data['Year'] = data['Year'].astype(int)\n",
    "data['Rating'] = data['Rating'].astype(float)\n",
    "\n",
    "# Group data by year and calculate the mean rating for each year\n",
    "ratings_by_year = data.groupby('Year')['Rating'].mean()\n",
    "\n",
    "# Create a time series plot for movie ratings over the years\n",
    "plt.figure(figsize=(10, 6))\n",
    "ratings_by_year.plot()\n",
    "plt.title('Movie Ratings Over the Years')\n",
    "plt.xlabel('Year')\n",
    "plt.ylabel('Average Rating')\n",
    "plt.show()"
   ]
  },
  {
   "cell_type": "code",
   "execution_count": 46,
   "id": "7a13d09b",
   "metadata": {},
   "outputs": [
    {
     "data": {
      "image/png": "[encoded data removed]",
      "text/plain": [
       "<Figure size 864x432 with 1 Axes>"
      ]
     },
     "metadata": {
      "needs_background": "light"
     },
     "output_type": "display_data"
    }
   ],
   "source": [
    "# Make sure the 'Year' column is in the correct data type (int)\n",
    "data['Year'] = data['Year'].astype(int)\n",
    "\n",
    "# Group data by year and calculate the count of movies for each year\n",
    "movies_by_year = data.groupby('Year').size()\n",
    "\n",
    "# Create a time series plot for the number of movies released over the years\n",
    "plt.figure(figsize=(12, 6))\n",
    "plt.plot(movies_by_year.index, movies_by_year.values)\n",
    "plt.title('Number of Movies Released Over the Years', fontsize = 15)\n",
    "plt.xlabel('Year', fontsize =14)\n",
    "plt.ylabel('Number of Movies', fontsize= 14)\n",
    "plt.show()"
   ]
  },
  {
   "cell_type": "code",
   "execution_count": 47,
   "id": "2135df76",
   "metadata": {},
   "outputs": [
    {
     "data": {
      "image/png": "[encoded data removed]",
      "text/plain": [
       "<Figure size 864x432 with 1 Axes>"
      ]
     },
     "metadata": {
      "needs_background": "light"
     },
     "output_type": "display_data"
    }
   ],
   "source": [
    "plt.figure(figsize=(12, 6))\n",
    "\n",
    "# Count the number of movies for each actor, sort in descending order, and select the top 10\n",
    "top_actors = data['Actor 1'].value_counts().sort_values(ascending=False).head(10)\n",
    "\n",
    "# Create a bar plot for the top 10 actors with the most movies\n",
    "top_actors.plot(kind='bar')\n",
    "plt.title('Top 10 Actors with the Most Movies')\n",
    "plt.xlabel('Actor')\n",
    "plt.ylabel('Number of Movies')\n",
    "plt.xticks(rotation=90)  # Rotate actor names for better visibility\n",
    "plt.show()"
   ]
  },
  {
   "cell_type": "code",
   "execution_count": 48,
   "id": "b74a2ad5",
   "metadata": {},
   "outputs": [
    {
     "data": {
      "image/png": "[encoded data removed]",
      "text/plain": [
       "<Figure size 864x432 with 1 Axes>"
      ]
     },
     "metadata": {
      "needs_background": "light"
     },
     "output_type": "display_data"
    }
   ],
   "source": [
    "plt.figure(figsize=(12, 6))\n",
    "\n",
    "# Count the number of movies for each director, sort in descending order, and select the top 10\n",
    "top_directors = data['Director'].value_counts().sort_values(ascending=False).head(10)\n",
    "\n",
    "# Create a bar plot for the top 10 directors with the most movies\n",
    "top_directors.plot(kind='bar')\n",
    "plt.title('Top 10 Directors with the Most Movies')\n",
    "plt.xlabel('Director')\n",
    "plt.ylabel('Number of Movies')\n",
    "plt.xticks(rotation=90)  # Rotate director names for better visibility\n",
    "plt.show()"
   ]
  },
  {
   "cell_type": "code",
   "execution_count": 49,
   "id": "e4de2092",
   "metadata": {},
   "outputs": [],
   "source": [
    "from sklearn.linear_model import LinearRegression\n",
    "from sklearn.ensemble import RandomForestRegressor\n",
    "\n",
    "from sklearn.model_selection import train_test_split, cross_val_score\n",
    "\n",
    "from sklearn.metrics import accuracy_score, mean_absolute_error, mean_squared_error, r2_score"
   ]
  },
  {
   "cell_type": "code",
   "execution_count": 50,
   "id": "5d2428a5",
   "metadata": {},
   "outputs": [],
   "source": [
    "datamodel = data[['Year', 'Votes', 'Duration', 'Director','Actor 1', 'Actor 2', 'Actor 3', 'Rating']]"
   ]
  },
  {
   "cell_type": "code",
   "execution_count": 51,
   "id": "897c774e",
   "metadata": {},
   "outputs": [],
   "source": [
    "director_mean_rating = datamodel.groupby('Director')['Rating'].transform('mean')\n",
    "datamodel['Director_encoded'] = director_mean_rating\n",
    "\n",
    "actor1_mean_rating = datamodel.groupby('Actor 1')['Rating'].transform('mean')\n",
    "datamodel['Actor1_encoded'] = actor1_mean_rating\n",
    "\n",
    "actor2_mean_rating = datamodel.groupby('Actor 2')['Rating'].transform('mean')\n",
    "datamodel['Actor2_encoded'] = actor2_mean_rating\n",
    "\n",
    "actor3_mean_rating = datamodel.groupby('Actor 3')['Rating'].transform('mean')\n",
    "datamodel['Actor3_encoded'] = actor3_mean_rating"
   ]
  },
  {
   "cell_type": "code",
   "execution_count": 52,
   "id": "255b718a",
   "metadata": {},
   "outputs": [],
   "source": [
    "X = datamodel[[ 'Year', 'Votes', 'Duration','Director_encoded','Actor1_encoded', 'Actor2_encoded', 'Actor3_encoded']]\n",
    "y = datamodel['Rating']\n",
    "\n",
    "X_train,X_test,y_train,y_test = train_test_split(X,y,test_size=0.3,random_state=24)"
   ]
  },
  {
   "cell_type": "code",
   "execution_count": 53,
   "id": "2d70eef4",
   "metadata": {},
   "outputs": [],
   "source": [
    "lr = LinearRegression()\n",
    "lr.fit(X_train,y_train)\n",
    "lr_pred = lr.predict(X_test)\n",
    "\n",
    "#Random Forest\n",
    "rf = RandomForestRegressor()\n",
    "rf.fit(X_train,y_train)\n",
    "rf_pred = rf.predict(X_test)"
   ]
  },
  {
   "cell_type": "code",
   "execution_count": 54,
   "id": "eb24e7c3",
   "metadata": {},
   "outputs": [
    {
     "name": "stdout",
     "output_type": "stream",
     "text": [
      "Logistic Regression Model Performance: \n",
      "Mean squared error:  0.3776196295816832\n",
      "Mean absolute error:  0.4562760312995002\n",
      "R2 score:  0.8033009447842607\n",
      "\n",
      "Random Forest Regressor Model Performance: \n",
      "Mean squared error:  0.3113724862331576\n",
      "Mean absolute error:  0.3865823081429409\n",
      "R2 score:  0.8378085537288269\n"
     ]
    }
   ],
   "source": [
    "print('Logistic Regression Model Performance: ')\n",
    "print('Mean squared error: ',mean_squared_error(y_test, lr_pred))\n",
    "print('Mean absolute error: ',mean_absolute_error(y_test, lr_pred))\n",
    "print('R2 score: ',r2_score(y_test, lr_pred))\n",
    "print()\n",
    "\n",
    "print('Random Forest Regressor Model Performance: ')\n",
    "print('Mean squared error: ',mean_squared_error(y_test, rf_pred))\n",
    "print('Mean absolute error: ',mean_absolute_error(y_test, rf_pred))\n",
    "print('R2 score: ',r2_score(y_test, rf_pred))"
   ]
  },
  {
   "cell_type": "code",
   "execution_count": 55,
   "id": "1e7b7337",
   "metadata": {},
   "outputs": [
    {
     "name": "stdout",
     "output_type": "stream",
     "text": [
      "Predicted Rating: 5.878999999999991\n"
     ]
    }
   ],
   "source": [
    "data = {'Year': [2016], 'Votes': [58], 'Duration': [121], 'Director_encoded': [5.8], 'Actor1_encoded': [5.9], 'Actor2_encoded': [5.9], 'Actor3_encoded': [5.900]}\n",
    "df = pd.DataFrame(data)\n",
    "\n",
    "predicted_rating = rf.predict(df)\n",
    "\n",
    "# Display the predicted rating\n",
    "print(\"Predicted Rating:\", predicted_rating[0])"
   ]
  }
 ],
 "metadata": {
  "kernelspec": {
   "display_name": "Python 3 (ipykernel)",
   "language": "python",
   "name": "python3"
  },
  "language_info": {
   "codemirror_mode": {
    "name": "ipython",
    "version": 3
   },
   "file_extension": ".py",
   "mimetype": "text/x-python",
   "name": "python",
   "nbconvert_exporter": "python",
   "pygments_lexer": "ipython3",
   "version": "3.9.7"
  }
 },
 "nbformat": 4,
 "nbformat_minor": 5
}
